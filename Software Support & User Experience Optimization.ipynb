{
 "cells": [
  {
   "cell_type": "code",
   "execution_count": 3,
   "metadata": {},
   "outputs": [
    {
     "name": "stdout",
     "output_type": "stream",
     "text": [
      "Issue Category: General\n",
      "Automated Response: Thank you for reaching out. We will get back to you shortly.\n"
     ]
    }
   ],
   "source": [
    "# Import necessary libraries\n",
    "import random\n",
    "\n",
    "# Define a simple issue tracking system with predefined issues and automated responses\n",
    "class IssueTracker:\n",
    "    def __init__(self):\n",
    "        self.issues_db = {\n",
    "            \"Login Issue\": [\"Unable to login\", \"Login screen not working\", \"Forgot password\"],\n",
    "            \"Bug Report\": [\"Page crashes on clicking button\", \"App freezes\", \"Error message when loading page\"],\n",
    "            \"Performance Issue\": [\"App is slow\", \"Page takes too long to load\", \"Latency issues\"],\n",
    "            \"Feature Request\": [\"Add dark mode\", \"Allow customization\", \"More integrations\"]\n",
    "        }\n",
    "        self.responses = {\n",
    "            \"Login Issue\": \"Please reset your password or try using a different browser.\",\n",
    "            \"Bug Report\": \"Our team is working on fixing this bug. Please check for an update soon.\",\n",
    "            \"Performance Issue\": \"We are looking into performance improvements. Please try clearing your cache.\",\n",
    "            \"Feature Request\": \"Thank you for your feedback! We'll consider adding this feature in future updates.\"\n",
    "        }\n",
    "\n",
    "    def track_issue(self, user_input):\n",
    "        for issue_category, issue_keywords in self.issues_db.items():\n",
    "            if any(keyword.lower() in user_input.lower() for keyword in issue_keywords):\n",
    "                return issue_category, self.responses[issue_category]\n",
    "        return \"General\", \"Thank you for reaching out. We will get back to you shortly.\"\n",
    "\n",
    "# Simulating issue reporting\n",
    "tracker = IssueTracker()\n",
    "\n",
    "# Example user input\n",
    "user_input = \"The page is taking too long to load.\"\n",
    "\n",
    "# Track the issue and get an automated response\n",
    "issue_category, response = tracker.track_issue(user_input)\n",
    "\n",
    "print(f\"Issue Category: {issue_category}\")\n",
    "print(f\"Automated Response: {response}\")\n"
   ]
  },
  {
   "cell_type": "code",
   "execution_count": null,
   "metadata": {},
   "outputs": [
    {
     "name": "stdout",
     "output_type": "stream",
     "text": [
      "Interactive training material has been created!\n"
     ]
    }
   ],
   "source": [
    "# Create interactive training material (HTML)\n",
    "training_content = \"\"\"\n",
    "<!DOCTYPE html>\n",
    "<html lang=\"en\">\n",
    "<head>\n",
    "    <meta charset=\"UTF-8\">\n",
    "    <meta name=\"viewport\" content=\"width=device-width, initial-scale=1.0\">\n",
    "    <title>Interactive Tutorial</title>\n",
    "</head>\n",
    "<body>\n",
    "    <h1>Welcome to the Software Training!</h1>\n",
    "    <p>This tutorial will guide you through basic functions.</p>\n",
    "    <ul>\n",
    "        <li><b>Login Process:</b> Go to the login page, enter your credentials, and click \"Login\".</li>\n",
    "        <li><b>Reporting Issues:</b> Click on the 'Report Issue' button and describe the issue.</li>\n",
    "        <li><b>Contact Support:</b> Use the live chat for immediate support.</li>\n",
    "    </ul>\n",
    "    <video width=\"600\" controls>\n",
    "        <source src=\"tutorial_video.mp4\" type=\"video/mp4\">\n",
    "        Your browser does not support the video tag.\n",
    "    </video>\n",
    "</body>\n",
    "</html>\n",
    "\"\"\"\n",
    "\n",
    "# Save the tutorial content into an HTML file\n",
    "with open(\"software_training.html\", \"w\") as file:\n",
    "    file.write(training_content)\n",
    "\n",
    "print(\"Interactive training material has been created!\")\n"
   ]
  },
  {
   "cell_type": "code",
   "execution_count": 5,
   "metadata": {},
   "outputs": [
    {
     "name": "stdout",
     "output_type": "stream",
     "text": [
      "Troubleshooting Steps:\n",
      "- Step 1: Reproduce the issue and note the exact steps.\n",
      "- Step 2: Ensure the application is updated.\n",
      "- Step 3: Report the bug with detailed steps to support.\n"
     ]
    }
   ],
   "source": [
    "# Live troubleshooting assistance\n",
    "def troubleshoot_issue(issue):\n",
    "    troubleshooting_steps = {\n",
    "        \"Login Issue\": [\n",
    "            \"Step 1: Check your internet connection.\",\n",
    "            \"Step 2: Ensure your credentials are correct.\",\n",
    "            \"Step 3: Try resetting your password if needed.\"\n",
    "        ],\n",
    "        \"Bug Report\": [\n",
    "            \"Step 1: Reproduce the issue and note the exact steps.\",\n",
    "            \"Step 2: Ensure the application is updated.\",\n",
    "            \"Step 3: Report the bug with detailed steps to support.\"\n",
    "        ],\n",
    "        \"Performance Issue\": [\n",
    "            \"Step 1: Clear your browser cache and cookies.\",\n",
    "            \"Step 2: Disable unnecessary browser extensions.\",\n",
    "            \"Step 3: Try restarting the application.\"\n",
    "        ]\n",
    "    }\n",
    "\n",
    "    issue_type = tracker.track_issue(issue)[0]\n",
    "    \n",
    "    if issue_type in troubleshooting_steps:\n",
    "        return troubleshooting_steps[issue_type]\n",
    "    else:\n",
    "        return [\"Please provide more details about the issue for troubleshooting.\"]\n",
    "\n",
    "# Example of live troubleshooting\n",
    "user_reported_issue = \"Page crashes on clicking button\"\n",
    "steps = troubleshoot_issue(user_reported_issue)\n",
    "\n",
    "print(\"Troubleshooting Steps:\")\n",
    "for step in steps:\n",
    "    print(f\"- {step}\")\n"
   ]
  },
  {
   "cell_type": "code",
   "execution_count": 6,
   "metadata": {},
   "outputs": [
    {
     "name": "stdout",
     "output_type": "stream",
     "text": [
      "Customer Feedback Analysis:\n",
      "Average Rating: 3.3333333333333335\n",
      "Positive Feedback Count: 1\n",
      "Negative Feedback Count: 2\n",
      "Suggestions for Improvement: [\"It's okay, but it crashes sometimes.\", 'Needs better features and speed.']\n"
     ]
    }
   ],
   "source": [
    "class CustomerFeedback:\n",
    "    def __init__(self):\n",
    "        self.feedback_data = []\n",
    "    \n",
    "    def collect_feedback(self, user_feedback, rating):\n",
    "        self.feedback_data.append({\"feedback\": user_feedback, \"rating\": rating})\n",
    "    \n",
    "    def analyze_feedback(self):\n",
    "        if not self.feedback_data:\n",
    "            return \"No feedback to analyze.\"\n",
    "        \n",
    "        avg_rating = sum([f[\"rating\"] for f in self.feedback_data]) / len(self.feedback_data)\n",
    "        positive_feedback = [f for f in self.feedback_data if f[\"rating\"] >= 4]\n",
    "        negative_feedback = [f for f in self.feedback_data if f[\"rating\"] < 4]\n",
    "        \n",
    "        return {\n",
    "            \"avg_rating\": avg_rating,\n",
    "            \"positive_feedback_count\": len(positive_feedback),\n",
    "            \"negative_feedback_count\": len(negative_feedback),\n",
    "            \"suggestions_for_improvement\": [f[\"feedback\"] for f in negative_feedback]\n",
    "        }\n",
    "\n",
    "# Simulate collecting customer feedback\n",
    "feedback_system = CustomerFeedback()\n",
    "\n",
    "# Collecting feedback\n",
    "feedback_system.collect_feedback(\"Great app, very fast!\", 5)\n",
    "feedback_system.collect_feedback(\"It's okay, but it crashes sometimes.\", 3)\n",
    "feedback_system.collect_feedback(\"Needs better features and speed.\", 2)\n",
    "\n",
    "# Analyzing feedback\n",
    "analysis = feedback_system.analyze_feedback()\n",
    "\n",
    "print(\"Customer Feedback Analysis:\")\n",
    "print(f\"Average Rating: {analysis['avg_rating']}\")\n",
    "print(f\"Positive Feedback Count: {analysis['positive_feedback_count']}\")\n",
    "print(f\"Negative Feedback Count: {analysis['negative_feedback_count']}\")\n",
    "print(f\"Suggestions for Improvement: {analysis['suggestions_for_improvement']}\")\n"
   ]
  }
 ],
 "metadata": {
  "kernelspec": {
   "display_name": "Python 3",
   "language": "python",
   "name": "python3"
  },
  "language_info": {
   "codemirror_mode": {
    "name": "ipython",
    "version": 3
   },
   "file_extension": ".py",
   "mimetype": "text/x-python",
   "name": "python",
   "nbconvert_exporter": "python",
   "pygments_lexer": "ipython3",
   "version": "3.12.9"
  }
 },
 "nbformat": 4,
 "nbformat_minor": 2
}
